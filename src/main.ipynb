{
 "cells": [
  {
   "cell_type": "code",
   "execution_count": null,
   "id": "bfd00cee-c28e-4348-a00c-4dc9ab459431",
   "metadata": {},
   "outputs": [],
   "source": [
    "# Local -> all other imports in source files\n",
    "import settings.custom\n",
    "from prophandler import PropHandler\n",
    "\n",
    "SITE='draftkings'\n",
    "MODE='main-slate'"
   ]
  },
  {
   "cell_type": "code",
   "execution_count": null,
   "id": "7ef69279-5eb1-4eff-83c7-13c0d5330c2d",
   "metadata": {},
   "outputs": [],
   "source": [
    "handler = PropHandler(SITE, MODE)"
   ]
  },
  {
   "cell_type": "code",
   "execution_count": null,
   "id": "31499168-59c4-4a91-88b5-3e7eb2061c4e",
   "metadata": {
    "scrolled": true
   },
   "outputs": [],
   "source": [
    "handler.load(\n",
    "    # Late additions to injury report\n",
    "    inactive=[],\n",
    "    update=False\n",
    ")"
   ]
  },
  {
   "cell_type": "markdown",
   "id": "d5e4e863-46c2-4fbb-b366-669683d2d1b9",
   "metadata": {},
   "source": [
    "#### handler.constant_scrape()\n",
    "##### Repeatedly scrapes props, making sure always as up to date as possible, however it has an infinite loop built in."
   ]
  },
  {
   "cell_type": "code",
   "execution_count": null,
   "id": "92456848-0aed-421d-8d14-936458e71dcc",
   "metadata": {},
   "outputs": [],
   "source": [
    "handler.constant_scrape()"
   ]
  },
  {
   "cell_type": "code",
   "execution_count": null,
   "id": "560eb2dd-ac6d-4851-baf6-6bf509eae56a",
   "metadata": {},
   "outputs": [],
   "source": []
  }
 ],
 "metadata": {
  "kernelspec": {
   "display_name": "Python 3 (ipykernel)",
   "language": "python",
   "name": "python3"
  },
  "language_info": {
   "codemirror_mode": {
    "name": "ipython",
    "version": 3
   },
   "file_extension": ".py",
   "mimetype": "text/x-python",
   "name": "python",
   "nbconvert_exporter": "python",
   "pygments_lexer": "ipython3",
   "version": "3.11.8"
  }
 },
 "nbformat": 4,
 "nbformat_minor": 5
}
