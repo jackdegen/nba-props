{
 "cells": [
  {
   "cell_type": "code",
   "execution_count": null,
   "id": "bfd00cee-c28e-4348-a00c-4dc9ab459431",
   "metadata": {},
   "outputs": [],
   "source": [
    "# Local -> all other imports in source files\n",
    "import settings.custom\n",
    "\n",
    "from prophandler import PropHandler\n",
    "from settings.params import MODE, SITE # Anachronistic"
   ]
  },
  {
   "cell_type": "code",
   "execution_count": null,
   "id": "7ef69279-5eb1-4eff-83c7-13c0d5330c2d",
   "metadata": {},
   "outputs": [],
   "source": [
    "handler = PropHandler(SITE, MODE)"
   ]
  },
  {
   "cell_type": "code",
   "execution_count": null,
   "id": "31499168-59c4-4a91-88b5-3e7eb2061c4e",
   "metadata": {},
   "outputs": [],
   "source": [
    "handler.load()"
   ]
  },
  {
   "cell_type": "markdown",
   "id": "561d2915-8590-4714-bed1-35e88186c501",
   "metadata": {},
   "source": [
    "#### handler.constant_scrape()\n",
    "##### Repeatedly scrapes props, making sure always as up to date as possible, however it has an infinite loop built in."
   ]
  },
  {
   "cell_type": "code",
   "execution_count": null,
   "id": "87a34ccc-97e1-4677-9cbc-0cf98980fe46",
   "metadata": {},
   "outputs": [],
   "source": [
    "# handler.constant_scrape()"
   ]
  }
 ],
 "metadata": {
  "kernelspec": {
   "display_name": "Python 3 (ipykernel)",
   "language": "python",
   "name": "python3"
  },
  "language_info": {
   "codemirror_mode": {
    "name": "ipython",
    "version": 3
   },
   "file_extension": ".py",
   "mimetype": "text/x-python",
   "name": "python",
   "nbconvert_exporter": "python",
   "pygments_lexer": "ipython3",
   "version": "3.11.8"
  }
 },
 "nbformat": 4,
 "nbformat_minor": 5
}
